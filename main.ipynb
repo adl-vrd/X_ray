{
 "cells": [
  {
   "cell_type": "markdown",
   "id": "475b59a0",
   "metadata": {},
   "source": [
    "Import des bibliothèques "
   ]
  },
  {
   "cell_type": "code",
   "execution_count": 49,
   "id": "7fd79316",
   "metadata": {},
   "outputs": [],
   "source": [
    "import numpy as np\n",
    "import os\n",
    "from PIL import Image \n",
    "import tensorflow as tf\n",
    "import tensorflow_datasets as tfds\n",
    "import pandas as pd\n",
    "import matplotlib.pyplot as plt"
   ]
  },
  {
   "cell_type": "markdown",
   "id": "fcd0e445",
   "metadata": {},
   "source": [
    "Chargement des données"
   ]
  },
  {
   "cell_type": "code",
   "execution_count": 50,
   "id": "f76ce916",
   "metadata": {},
   "outputs": [],
   "source": [
    "\n",
    "csv_train = pd.read_csv('boneage_training_dataset_300.csv') \n",
    "csv_test = pd.read_csv('boneage_test_dataset_100.csv')\n",
    "\n",
    "# Conversion en array du csv pour manipulation plus facile \n",
    "\n",
    "### Pour la base d'apprentissage\n",
    "train_array = csv_train.to_numpy()\n",
    "\n",
    "numero_patient_train = train_array[:,0]\n",
    "age_osseux_train = train_array[:,1]\n",
    "sexe_train = train_array[:,2]\n",
    "\n",
    "### Pour la base de test \n",
    "test_array = csv_test.to_numpy()\n",
    "numero_patient_test = test_array[:,0]\n",
    "sexe_test = test_array[:,1]\n"
   ]
  },
  {
   "cell_type": "code",
   "execution_count": 53,
   "id": "db189f13",
   "metadata": {},
   "outputs": [],
   "source": [
    "def chargement_images_train(numero_patient_train):\n",
    "    img_path = f'training/{numero_patient_train}.png'\n",
    "    img = tf.io.read_file(img_path)\n",
    "    img = tf.image.decode_image(img, channels=3)\n",
    "\n",
    "    return img\n",
    "\n",
    "def chargement_images_test(numero_patient_train):\n",
    "    img_path = f'test/{numero_patient_train}.png'\n",
    "    img = tf.io.read_file(img_path)\n",
    "    img = tf.image.decode_image(img, channels=3)\n",
    "\n",
    "    return img\n",
    "\n",
    "#affichage de l'image \n",
    "#image_1600 = chargement_images_train(1600)\n",
    "#plt.imshow(image_1600.numpy().astype(\"uint8\"))"
   ]
  }
 ],
 "metadata": {
  "kernelspec": {
   "display_name": "RSNA",
   "language": "python",
   "name": "python3"
  },
  "language_info": {
   "codemirror_mode": {
    "name": "ipython",
    "version": 3
   },
   "file_extension": ".py",
   "mimetype": "text/x-python",
   "name": "python",
   "nbconvert_exporter": "python",
   "pygments_lexer": "ipython3",
   "version": "3.13.2"
  }
 },
 "nbformat": 4,
 "nbformat_minor": 5
}
